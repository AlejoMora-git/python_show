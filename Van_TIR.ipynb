{
 "cells": [
  {
   "cell_type": "markdown",
   "id": "1ff56e96",
   "metadata": {},
   "source": [
    "<h1 align= 'center'>Análisis de VAN y TIR"
   ]
  },
  {
   "cell_type": "code",
   "execution_count": 2,
   "id": "6007f687",
   "metadata": {},
   "outputs": [
    {
     "data": {
      "application/vnd.microsoft.datawrangler.viewer.v0+json": {
       "columns": [
        {
         "name": "index",
         "rawType": "int64",
         "type": "integer"
        },
        {
         "name": "Fecha",
         "rawType": "datetime64[ns]",
         "type": "datetime"
        },
        {
         "name": "Flujo_Caja",
         "rawType": "int64",
         "type": "integer"
        }
       ],
       "ref": "90e6ceb6-775d-425c-92c8-edb71ee75832",
       "rows": [
        [
         "0",
         "2025-12-31 00:00:00",
         "-100000"
        ],
        [
         "1",
         "2026-12-31 00:00:00",
         "12000"
        ],
        [
         "2",
         "2027-12-31 00:00:00",
         "15000"
        ],
        [
         "3",
         "2028-12-31 00:00:00",
         "18000"
        ],
        [
         "4",
         "2029-12-31 00:00:00",
         "20000"
        ],
        [
         "5",
         "2030-12-31 00:00:00",
         "22000"
        ],
        [
         "6",
         "2031-12-31 00:00:00",
         "25000"
        ],
        [
         "7",
         "2032-12-31 00:00:00",
         "27000"
        ],
        [
         "8",
         "2033-12-31 00:00:00",
         "29000"
        ],
        [
         "9",
         "2034-12-31 00:00:00",
         "30000"
        ],
        [
         "10",
         "2035-12-31 00:00:00",
         "31000"
        ]
       ],
       "shape": {
        "columns": 2,
        "rows": 11
       }
      },
      "text/html": [
       "<div>\n",
       "<style scoped>\n",
       "    .dataframe tbody tr th:only-of-type {\n",
       "        vertical-align: middle;\n",
       "    }\n",
       "\n",
       "    .dataframe tbody tr th {\n",
       "        vertical-align: top;\n",
       "    }\n",
       "\n",
       "    .dataframe thead th {\n",
       "        text-align: right;\n",
       "    }\n",
       "</style>\n",
       "<table border=\"1\" class=\"dataframe\">\n",
       "  <thead>\n",
       "    <tr style=\"text-align: right;\">\n",
       "      <th></th>\n",
       "      <th>Fecha</th>\n",
       "      <th>Flujo_Caja</th>\n",
       "    </tr>\n",
       "  </thead>\n",
       "  <tbody>\n",
       "    <tr>\n",
       "      <th>0</th>\n",
       "      <td>2025-12-31</td>\n",
       "      <td>-100000</td>\n",
       "    </tr>\n",
       "    <tr>\n",
       "      <th>1</th>\n",
       "      <td>2026-12-31</td>\n",
       "      <td>12000</td>\n",
       "    </tr>\n",
       "    <tr>\n",
       "      <th>2</th>\n",
       "      <td>2027-12-31</td>\n",
       "      <td>15000</td>\n",
       "    </tr>\n",
       "    <tr>\n",
       "      <th>3</th>\n",
       "      <td>2028-12-31</td>\n",
       "      <td>18000</td>\n",
       "    </tr>\n",
       "    <tr>\n",
       "      <th>4</th>\n",
       "      <td>2029-12-31</td>\n",
       "      <td>20000</td>\n",
       "    </tr>\n",
       "    <tr>\n",
       "      <th>5</th>\n",
       "      <td>2030-12-31</td>\n",
       "      <td>22000</td>\n",
       "    </tr>\n",
       "    <tr>\n",
       "      <th>6</th>\n",
       "      <td>2031-12-31</td>\n",
       "      <td>25000</td>\n",
       "    </tr>\n",
       "    <tr>\n",
       "      <th>7</th>\n",
       "      <td>2032-12-31</td>\n",
       "      <td>27000</td>\n",
       "    </tr>\n",
       "    <tr>\n",
       "      <th>8</th>\n",
       "      <td>2033-12-31</td>\n",
       "      <td>29000</td>\n",
       "    </tr>\n",
       "    <tr>\n",
       "      <th>9</th>\n",
       "      <td>2034-12-31</td>\n",
       "      <td>30000</td>\n",
       "    </tr>\n",
       "    <tr>\n",
       "      <th>10</th>\n",
       "      <td>2035-12-31</td>\n",
       "      <td>31000</td>\n",
       "    </tr>\n",
       "  </tbody>\n",
       "</table>\n",
       "</div>"
      ],
      "text/plain": [
       "        Fecha  Flujo_Caja\n",
       "0  2025-12-31     -100000\n",
       "1  2026-12-31       12000\n",
       "2  2027-12-31       15000\n",
       "3  2028-12-31       18000\n",
       "4  2029-12-31       20000\n",
       "5  2030-12-31       22000\n",
       "6  2031-12-31       25000\n",
       "7  2032-12-31       27000\n",
       "8  2033-12-31       29000\n",
       "9  2034-12-31       30000\n",
       "10 2035-12-31       31000"
      ]
     },
     "execution_count": 2,
     "metadata": {},
     "output_type": "execute_result"
    }
   ],
   "source": [
    "import pandas as pd\n",
    "import numpy as np\n",
    "import numpy_financial as npf\n",
    "\n",
    "# Simulamos un calendario de flujos\n",
    "flujos = [-100000, 12000, 15000, 18000, 20000, 22000, 25000, 27000, 29000, 30000, 31000]\n",
    "años = pd.date_range(start='2025', periods=len(flujos), freq='YE')\n",
    "\n",
    "# Crear DataFrame\n",
    "df_flujos = pd.DataFrame({\n",
    "    'Fecha': años,\n",
    "    'Flujo_Caja': flujos\n",
    "})\n",
    "df_flujos"
   ]
  },
  {
   "cell_type": "code",
   "execution_count": 3,
   "id": "c0798794",
   "metadata": {},
   "outputs": [],
   "source": [
    "tasa_descuento = 0.10  \n",
    "\n",
    "# Agregando columnas de Año y Periodos para el calculo del descuento de flujos\n",
    "\n",
    "df_flujos['Año'] = df_flujos['Fecha'].dt.year\n",
    "df_flujos['Periodo'] = range(len(df_flujos))\n",
    "\n",
    "# VAN: Valor Actual = Flujo / (1 + r)^t\n",
    "\n",
    "df_flujos['Valor_Actual'] = df_flujos['Flujo_Caja'] / (1 + tasa_descuento) ** df_flujos['Periodo']\n"
   ]
  },
  {
   "cell_type": "code",
   "execution_count": 4,
   "id": "10bf4edd",
   "metadata": {},
   "outputs": [
    {
     "data": {
      "application/vnd.microsoft.datawrangler.viewer.v0+json": {
       "columns": [
        {
         "name": "index",
         "rawType": "int64",
         "type": "integer"
        },
        {
         "name": "Fecha",
         "rawType": "datetime64[ns]",
         "type": "datetime"
        },
        {
         "name": "Flujo_Caja",
         "rawType": "int64",
         "type": "integer"
        },
        {
         "name": "Año",
         "rawType": "int32",
         "type": "integer"
        },
        {
         "name": "Periodo",
         "rawType": "int64",
         "type": "integer"
        },
        {
         "name": "Valor_Actual",
         "rawType": "float64",
         "type": "float"
        }
       ],
       "ref": "1482fe21-cc10-4d48-a636-884decc8567e",
       "rows": [
        [
         "0",
         "2025-12-31 00:00:00",
         "-100000",
         "2025",
         "0",
         "-100000.0"
        ],
        [
         "1",
         "2026-12-31 00:00:00",
         "12000",
         "2026",
         "1",
         "10909.090909090908"
        ],
        [
         "2",
         "2027-12-31 00:00:00",
         "15000",
         "2027",
         "2",
         "12396.694214876032"
        ],
        [
         "3",
         "2028-12-31 00:00:00",
         "18000",
         "2028",
         "3",
         "13523.666416228396"
        ],
        [
         "4",
         "2029-12-31 00:00:00",
         "20000",
         "2029",
         "4",
         "13660.26910730141"
        ],
        [
         "5",
         "2030-12-31 00:00:00",
         "22000",
         "2030",
         "5",
         "13660.269107301408"
        ],
        [
         "6",
         "2031-12-31 00:00:00",
         "25000",
         "2031",
         "6",
         "14111.848251344429"
        ],
        [
         "7",
         "2032-12-31 00:00:00",
         "27000",
         "2032",
         "7",
         "13855.269192229074"
        ],
        [
         "8",
         "2033-12-31 00:00:00",
         "29000",
         "2033",
         "8",
         "13528.71402608226"
        ],
        [
         "9",
         "2034-12-31 00:00:00",
         "30000",
         "2034",
         "9",
         "12722.928551174537"
        ],
        [
         "10",
         "2035-12-31 00:00:00",
         "31000",
         "2035",
         "10",
         "11951.841972315473"
        ]
       ],
       "shape": {
        "columns": 5,
        "rows": 11
       }
      },
      "text/html": [
       "<div>\n",
       "<style scoped>\n",
       "    .dataframe tbody tr th:only-of-type {\n",
       "        vertical-align: middle;\n",
       "    }\n",
       "\n",
       "    .dataframe tbody tr th {\n",
       "        vertical-align: top;\n",
       "    }\n",
       "\n",
       "    .dataframe thead th {\n",
       "        text-align: right;\n",
       "    }\n",
       "</style>\n",
       "<table border=\"1\" class=\"dataframe\">\n",
       "  <thead>\n",
       "    <tr style=\"text-align: right;\">\n",
       "      <th></th>\n",
       "      <th>Fecha</th>\n",
       "      <th>Flujo_Caja</th>\n",
       "      <th>Año</th>\n",
       "      <th>Periodo</th>\n",
       "      <th>Valor_Actual</th>\n",
       "    </tr>\n",
       "  </thead>\n",
       "  <tbody>\n",
       "    <tr>\n",
       "      <th>0</th>\n",
       "      <td>2025-12-31</td>\n",
       "      <td>-100000</td>\n",
       "      <td>2025</td>\n",
       "      <td>0</td>\n",
       "      <td>-100000.000000</td>\n",
       "    </tr>\n",
       "    <tr>\n",
       "      <th>1</th>\n",
       "      <td>2026-12-31</td>\n",
       "      <td>12000</td>\n",
       "      <td>2026</td>\n",
       "      <td>1</td>\n",
       "      <td>10909.090909</td>\n",
       "    </tr>\n",
       "    <tr>\n",
       "      <th>2</th>\n",
       "      <td>2027-12-31</td>\n",
       "      <td>15000</td>\n",
       "      <td>2027</td>\n",
       "      <td>2</td>\n",
       "      <td>12396.694215</td>\n",
       "    </tr>\n",
       "    <tr>\n",
       "      <th>3</th>\n",
       "      <td>2028-12-31</td>\n",
       "      <td>18000</td>\n",
       "      <td>2028</td>\n",
       "      <td>3</td>\n",
       "      <td>13523.666416</td>\n",
       "    </tr>\n",
       "    <tr>\n",
       "      <th>4</th>\n",
       "      <td>2029-12-31</td>\n",
       "      <td>20000</td>\n",
       "      <td>2029</td>\n",
       "      <td>4</td>\n",
       "      <td>13660.269107</td>\n",
       "    </tr>\n",
       "    <tr>\n",
       "      <th>5</th>\n",
       "      <td>2030-12-31</td>\n",
       "      <td>22000</td>\n",
       "      <td>2030</td>\n",
       "      <td>5</td>\n",
       "      <td>13660.269107</td>\n",
       "    </tr>\n",
       "    <tr>\n",
       "      <th>6</th>\n",
       "      <td>2031-12-31</td>\n",
       "      <td>25000</td>\n",
       "      <td>2031</td>\n",
       "      <td>6</td>\n",
       "      <td>14111.848251</td>\n",
       "    </tr>\n",
       "    <tr>\n",
       "      <th>7</th>\n",
       "      <td>2032-12-31</td>\n",
       "      <td>27000</td>\n",
       "      <td>2032</td>\n",
       "      <td>7</td>\n",
       "      <td>13855.269192</td>\n",
       "    </tr>\n",
       "    <tr>\n",
       "      <th>8</th>\n",
       "      <td>2033-12-31</td>\n",
       "      <td>29000</td>\n",
       "      <td>2033</td>\n",
       "      <td>8</td>\n",
       "      <td>13528.714026</td>\n",
       "    </tr>\n",
       "    <tr>\n",
       "      <th>9</th>\n",
       "      <td>2034-12-31</td>\n",
       "      <td>30000</td>\n",
       "      <td>2034</td>\n",
       "      <td>9</td>\n",
       "      <td>12722.928551</td>\n",
       "    </tr>\n",
       "    <tr>\n",
       "      <th>10</th>\n",
       "      <td>2035-12-31</td>\n",
       "      <td>31000</td>\n",
       "      <td>2035</td>\n",
       "      <td>10</td>\n",
       "      <td>11951.841972</td>\n",
       "    </tr>\n",
       "  </tbody>\n",
       "</table>\n",
       "</div>"
      ],
      "text/plain": [
       "        Fecha  Flujo_Caja   Año  Periodo   Valor_Actual\n",
       "0  2025-12-31     -100000  2025        0 -100000.000000\n",
       "1  2026-12-31       12000  2026        1   10909.090909\n",
       "2  2027-12-31       15000  2027        2   12396.694215\n",
       "3  2028-12-31       18000  2028        3   13523.666416\n",
       "4  2029-12-31       20000  2029        4   13660.269107\n",
       "5  2030-12-31       22000  2030        5   13660.269107\n",
       "6  2031-12-31       25000  2031        6   14111.848251\n",
       "7  2032-12-31       27000  2032        7   13855.269192\n",
       "8  2033-12-31       29000  2033        8   13528.714026\n",
       "9  2034-12-31       30000  2034        9   12722.928551\n",
       "10 2035-12-31       31000  2035       10   11951.841972"
      ]
     },
     "execution_count": 4,
     "metadata": {},
     "output_type": "execute_result"
    }
   ],
   "source": [
    "df_flujos"
   ]
  },
  {
   "cell_type": "markdown",
   "id": "a1b3b279",
   "metadata": {},
   "source": [
    "Gráfico del flujo de fondos"
   ]
  },
  {
   "cell_type": "code",
   "execution_count": 5,
   "id": "e1e9e292",
   "metadata": {},
   "outputs": [
    {
     "data": {
      "image/png": "[encoded data removed]",
      "text/plain": [
       "<Figure size 800x500 with 1 Axes>"
      ]
     },
     "metadata": {},
     "output_type": "display_data"
    }
   ],
   "source": [
    "import matplotlib.pyplot as plt\n",
    "\n",
    "plt.figure(figsize=(8, 5))\n",
    "plt.bar(df_flujos['Año'], df_flujos['Flujo_Caja'], color='skyblue')\n",
    "plt.axhline(0, color='black', linestyle='--')\n",
    "plt.title(\"Proyecto de Inversión\")\n",
    "plt.xlabel(\"Año\")\n",
    "plt.ylabel(\"Flujo de Caja\")\n",
    "plt.grid(True);"
   ]
  },
  {
   "cell_type": "markdown",
   "id": "c3d86098",
   "metadata": {},
   "source": [
    "Análisis de VAN"
   ]
  },
  {
   "cell_type": "code",
   "execution_count": 6,
   "id": "8d9fa89c",
   "metadata": {},
   "outputs": [
    {
     "name": "stdout",
     "output_type": "stream",
     "text": [
      "VAN del proyecto: $30,320.59. El Proyecto es rentable\n"
     ]
    }
   ],
   "source": [
    "VAN = df_flujos['Valor_Actual'].sum()\n",
    "\n",
    "if VAN >= 0:\n",
    "    print(f\"VAN del proyecto: ${VAN:,.2f}. El Proyecto es rentable\")\n",
    "else:\n",
    "    print(f\"VAN del proyecto: ${VAN:,.2f}. El Proyecto no es rentable\")"
   ]
  },
  {
   "cell_type": "markdown",
   "id": "5b3d41d7",
   "metadata": {},
   "source": [
    "Análisis de TIR"
   ]
  },
  {
   "cell_type": "code",
   "execution_count": 7,
   "id": "24258e56",
   "metadata": {},
   "outputs": [
    {
     "name": "stdout",
     "output_type": "stream",
     "text": [
      "TIR del proyecto: 15.57%\n"
     ]
    }
   ],
   "source": [
    "TIR = npf.irr(df_flujos['Flujo_Caja'])\n",
    "print(f\"TIR del proyecto: {TIR:.2%}\")"
   ]
  },
  {
   "cell_type": "markdown",
   "id": "ac09a008",
   "metadata": {},
   "source": [
    "Análisis de sensibilidad"
   ]
  },
  {
   "cell_type": "code",
   "execution_count": 8,
   "id": "e1962e35",
   "metadata": {},
   "outputs": [],
   "source": [
    "# Trazando 100 posibles  tazas de descuento entre 0.05 a 0.2\n",
    "tasas = np.linspace(0.05, 0.2, 100)\n",
    "\n",
    "# Calculando una lista de VAN posibles por cada tasa posible\n",
    "van_list = [sum(f / (1 + r)**i for i, f in enumerate(flujos)) for r in tasas]\n",
    "\n",
    "# Buscando la tasa (aproximada) donde el VAN se acerca a 0\n",
    "idx_tir_aprox = np.argmin(np.abs(van_list)) # Obteniendo el indice la Tir del VAN con la \n",
    "                                            # Mínima distancia a 0 tomando el valor absoluto de  todos los VAN posible\n",
    "\n",
    "# Como cada elemento de van_list esta hehco en funcion de la tasa dentro de tasas, \n",
    "# obtener el indice de la lista de VAN con el valor mas cercano a 0, \n",
    "# significa encontrar la tasa de descuento que permite obtener ese resultado\n",
    "\n",
    "tir_aprox = tasas[idx_tir_aprox]\n",
    "\n",
    "van_tir = van_list[idx_tir_aprox]\n"
   ]
  },
  {
   "cell_type": "code",
   "execution_count": 9,
   "id": "277d620b",
   "metadata": {},
   "outputs": [],
   "source": [
    "if van_tir <= 0:\n",
    "    tir_aprox = tasas[idx_tir_aprox -1 ]\n",
    "    van_tir = van_list[idx_tir_aprox - 1]"
   ]
  },
  {
   "cell_type": "code",
   "execution_count": 37,
   "id": "d5517122",
   "metadata": {},
   "outputs": [
    {
     "name": "stdout",
     "output_type": "stream",
     "text": [
      "TIR aproximada que logra el equilibrio (VAN=0): 0.15454545454545457\n"
     ]
    },
    {
     "data": {
      "text/plain": [
       "'VAN obtenido según la TIR de la tasa de interes de equilibrio aprox: $534.71'"
      ]
     },
     "metadata": {},
     "output_type": "display_data"
    }
   ],
   "source": [
    "print(f\"TIR aproximada que logra el equilibrio (VAN=0): {tir_aprox}\")\n",
    "display(f\"VAN obtenido según la TIR de la tasa de interes de equilibrio aprox: ${van_tir:,.2f}\")"
   ]
  },
  {
   "cell_type": "markdown",
   "id": "2af48ad5",
   "metadata": {},
   "source": [
    "Gráfico de sensibilidad del van a la Tasa de Descuento y punto de equilibrio"
   ]
  },
  {
   "cell_type": "code",
   "execution_count": 11,
   "id": "5521bf30",
   "metadata": {},
   "outputs": [
    {
     "data": {
      "image/png": "[encoded data removed]",
      "text/plain": [
       "<Figure size 800x500 with 1 Axes>"
      ]
     },
     "metadata": {},
     "output_type": "display_data"
    }
   ],
   "source": [
    "\n",
    "# Gráfico\n",
    "plt.figure(figsize=(8, 5))\n",
    "plt.plot(tasas * 100, van_list, label = 'VAN vs tasa de descuento')\n",
    "\n",
    "# Linea constante de VAN = 0\n",
    "plt.axhline(0, color = 'gray', linestyle='--', linewidth = 1)\n",
    "\n",
    "# Linea constante de  la TIR de equillibrio\n",
    "plt.axvline(tir_aprox * 100, color='red', linestyle='--', label = f'TIR ≈ {tir_aprox*100:.2f}%')\n",
    "\n",
    "# Punto de intersección\n",
    "plt.plot(tir_aprox * 100, van_tir, 'ro')\n",
    "\n",
    "# Etiquetas\n",
    "plt.title(\"Análisis de sensibilidad: VAN vs tasa de descuento\")\n",
    "plt.xlabel(\"Tasa de descuento (%)\")\n",
    "plt.ylabel(\"VAN ($)\")\n",
    "plt.grid(True)\n",
    "plt.legend()\n",
    "plt.tight_layout()\n",
    "plt.show()"
   ]
  },
  {
   "cell_type": "markdown",
   "id": "45409227",
   "metadata": {},
   "source": [
    "Tiempo necesario para recuperar la inversión"
   ]
  },
  {
   "cell_type": "code",
   "execution_count": 15,
   "id": "0d02b305",
   "metadata": {},
   "outputs": [
    {
     "name": "stdout",
     "output_type": "stream",
     "text": [
      "Tiempo necesario para recuperar la inversión: 6 años.\n"
     ]
    }
   ],
   "source": [
    "# Payback simple\n",
    "\n",
    "acumulado = np.cumsum(flujos)\n",
    "años_payback = np.argmax(acumulado >= 0) # Obteniendo el primer indice en el que la suma acumulada de fondos da >= 0\n",
    "\n",
    "print(f\"Tiempo necesario para recuperar la inversión: {años_payback} años.\")"
   ]
  },
  {
   "cell_type": "code",
   "execution_count": 16,
   "id": "a1aa8604",
   "metadata": {},
   "outputs": [
    {
     "name": "stdout",
     "output_type": "stream",
     "text": [
      "Tiempo necesario para recuperar la inversión considerando flujos de fondos descontados: 8 años.\n"
     ]
    }
   ],
   "source": [
    "# Payback descontado\n",
    "\n",
    "tasa = 0.10\n",
    "flujos_desc = [f / (1 + tasa) ** i for i, f in enumerate(flujos)]\n",
    "acum_desc = np.cumsum(flujos_desc)\n",
    "años_payback_desc = np.argmax(acum_desc >= 0)   # Obteniendo el primer indice en el \n",
    "                                                # que la suma acumulada de fondos descontados da  >= 0\n",
    "\n",
    "print(f\"Tiempo necesario para recuperar la inversión considerando flujos de fondos descontados: {años_payback_desc} años.\")"
   ]
  },
  {
   "cell_type": "markdown",
   "id": "2b2942da",
   "metadata": {},
   "source": [
    "Análisis simple de escenarios Optimista / Pesimista"
   ]
  },
  {
   "cell_type": "code",
   "execution_count": 18,
   "id": "7f735253",
   "metadata": {},
   "outputs": [
    {
     "data": {
      "application/vnd.microsoft.datawrangler.viewer.v0+json": {
       "columns": [
        {
         "name": "index",
         "rawType": "int64",
         "type": "integer"
        },
        {
         "name": "Escenario",
         "rawType": "object",
         "type": "string"
        },
        {
         "name": "VAN",
         "rawType": "float64",
         "type": "float"
        },
        {
         "name": "TIR",
         "rawType": "float64",
         "type": "float"
        }
       ],
       "ref": "028be927-26c3-4e20-ab9b-7b4b2e6065c1",
       "rows": [
        [
         "0",
         "Pesimista",
         "4256.473398355136",
         "0.10833855650878643"
        ],
        [
         "1",
         "Base",
         "30320.59174794393",
         "0.15573666309866607"
        ],
        [
         "2",
         "Optimista",
         "56384.71009753271",
         "0.19840288519194282"
        ]
       ],
       "shape": {
        "columns": 3,
        "rows": 3
       }
      },
      "text/html": [
       "<div>\n",
       "<style scoped>\n",
       "    .dataframe tbody tr th:only-of-type {\n",
       "        vertical-align: middle;\n",
       "    }\n",
       "\n",
       "    .dataframe tbody tr th {\n",
       "        vertical-align: top;\n",
       "    }\n",
       "\n",
       "    .dataframe thead th {\n",
       "        text-align: right;\n",
       "    }\n",
       "</style>\n",
       "<table border=\"1\" class=\"dataframe\">\n",
       "  <thead>\n",
       "    <tr style=\"text-align: right;\">\n",
       "      <th></th>\n",
       "      <th>Escenario</th>\n",
       "      <th>VAN</th>\n",
       "      <th>TIR</th>\n",
       "    </tr>\n",
       "  </thead>\n",
       "  <tbody>\n",
       "    <tr>\n",
       "      <th>0</th>\n",
       "      <td>Pesimista</td>\n",
       "      <td>4256.473398</td>\n",
       "      <td>0.108339</td>\n",
       "    </tr>\n",
       "    <tr>\n",
       "      <th>1</th>\n",
       "      <td>Base</td>\n",
       "      <td>30320.591748</td>\n",
       "      <td>0.155737</td>\n",
       "    </tr>\n",
       "    <tr>\n",
       "      <th>2</th>\n",
       "      <td>Optimista</td>\n",
       "      <td>56384.710098</td>\n",
       "      <td>0.198403</td>\n",
       "    </tr>\n",
       "  </tbody>\n",
       "</table>\n",
       "</div>"
      ],
      "text/plain": [
       "   Escenario           VAN       TIR\n",
       "0  Pesimista   4256.473398  0.108339\n",
       "1       Base  30320.591748  0.155737\n",
       "2  Optimista  56384.710098  0.198403"
      ]
     },
     "execution_count": 18,
     "metadata": {},
     "output_type": "execute_result"
    }
   ],
   "source": [
    "flujos_optimista = [flujos[0]] + [f * 1.2 for f in flujos[1:]]\n",
    "flujos_pesimista = [flujos[0]] + [f * 0.8 for f in flujos[1:]]\n",
    "\n",
    "\n",
    "# VAN para cada escenario usando las herramientas propias de numpy_financial\n",
    "\n",
    "van_base = npf.npv(tasa_descuento, flujos)\n",
    "van_optimista = npf.npv(tasa_descuento, flujos_optimista)\n",
    "van_pesimista = npf.npv(tasa_descuento, flujos_pesimista)\n",
    "\n",
    "# TIR para cada escenario\n",
    "tir_base = npf.irr(flujos)\n",
    "tir_optimista = npf.irr(flujos_optimista)\n",
    "tir_pesimista = npf.irr(flujos_pesimista)\n",
    "\n",
    "# Creando DataFrame para mostrar los resultados en una tabla\n",
    "escenarios = pd.DataFrame({\n",
    "    'Escenario': ['Pesimista', 'Base', 'Optimista'],\n",
    "    'VAN': [van_pesimista, van_base, van_optimista],\n",
    "    'TIR': [tir_pesimista, tir_base, tir_optimista]\n",
    "})\n",
    "\n",
    "escenarios = pd.DataFrame(escenarios)\n",
    "\n",
    "escenarios"
   ]
  }
 ],
 "metadata": {
  "kernelspec": {
   "display_name": "base",
   "language": "python",
   "name": "python3"
  },
  "language_info": {
   "codemirror_mode": {
    "name": "ipython",
    "version": 3
   },
   "file_extension": ".py",
   "mimetype": "text/x-python",
   "name": "python",
   "nbconvert_exporter": "python",
   "pygments_lexer": "ipython3",
   "version": "3.12.4"
  }
 },
 "nbformat": 4,
 "nbformat_minor": 5
}
