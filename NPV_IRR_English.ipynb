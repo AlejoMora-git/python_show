{
 "cells": [
  {
   "cell_type": "markdown",
   "id": "1ff56e96",
   "metadata": {},
   "source": [
    "<h1 align= 'center'>Analysis of NPV y IRR"
   ]
  },
  {
   "cell_type": "code",
   "execution_count": 3,
   "id": "6007f687",
   "metadata": {},
   "outputs": [
    {
     "data": {
      "application/vnd.microsoft.datawrangler.viewer.v0+json": {
       "columns": [
        {
         "name": "index",
         "rawType": "int64",
         "type": "integer"
        },
        {
         "name": "Date",
         "rawType": "datetime64[ns]",
         "type": "datetime"
        },
        {
         "name": "Cashflows",
         "rawType": "int64",
         "type": "integer"
        }
       ],
       "ref": "15c19b97-c7d1-4b26-9ed1-d03628be7e57",
       "rows": [
        [
         "0",
         "2025-12-31 00:00:00",
         "-100000"
        ],
        [
         "1",
         "2026-12-31 00:00:00",
         "12000"
        ],
        [
         "2",
         "2027-12-31 00:00:00",
         "15000"
        ],
        [
         "3",
         "2028-12-31 00:00:00",
         "18000"
        ],
        [
         "4",
         "2029-12-31 00:00:00",
         "20000"
        ],
        [
         "5",
         "2030-12-31 00:00:00",
         "22000"
        ],
        [
         "6",
         "2031-12-31 00:00:00",
         "25000"
        ],
        [
         "7",
         "2032-12-31 00:00:00",
         "27000"
        ],
        [
         "8",
         "2033-12-31 00:00:00",
         "29000"
        ],
        [
         "9",
         "2034-12-31 00:00:00",
         "30000"
        ],
        [
         "10",
         "2035-12-31 00:00:00",
         "31000"
        ]
       ],
       "shape": {
        "columns": 2,
        "rows": 11
       }
      },
      "text/html": [
       "<div>\n",
       "<style scoped>\n",
       "    .dataframe tbody tr th:only-of-type {\n",
       "        vertical-align: middle;\n",
       "    }\n",
       "\n",
       "    .dataframe tbody tr th {\n",
       "        vertical-align: top;\n",
       "    }\n",
       "\n",
       "    .dataframe thead th {\n",
       "        text-align: right;\n",
       "    }\n",
       "</style>\n",
       "<table border=\"1\" class=\"dataframe\">\n",
       "  <thead>\n",
       "    <tr style=\"text-align: right;\">\n",
       "      <th></th>\n",
       "      <th>Date</th>\n",
       "      <th>Cashflows</th>\n",
       "    </tr>\n",
       "  </thead>\n",
       "  <tbody>\n",
       "    <tr>\n",
       "      <th>0</th>\n",
       "      <td>2025-12-31</td>\n",
       "      <td>-100000</td>\n",
       "    </tr>\n",
       "    <tr>\n",
       "      <th>1</th>\n",
       "      <td>2026-12-31</td>\n",
       "      <td>12000</td>\n",
       "    </tr>\n",
       "    <tr>\n",
       "      <th>2</th>\n",
       "      <td>2027-12-31</td>\n",
       "      <td>15000</td>\n",
       "    </tr>\n",
       "    <tr>\n",
       "      <th>3</th>\n",
       "      <td>2028-12-31</td>\n",
       "      <td>18000</td>\n",
       "    </tr>\n",
       "    <tr>\n",
       "      <th>4</th>\n",
       "      <td>2029-12-31</td>\n",
       "      <td>20000</td>\n",
       "    </tr>\n",
       "    <tr>\n",
       "      <th>5</th>\n",
       "      <td>2030-12-31</td>\n",
       "      <td>22000</td>\n",
       "    </tr>\n",
       "    <tr>\n",
       "      <th>6</th>\n",
       "      <td>2031-12-31</td>\n",
       "      <td>25000</td>\n",
       "    </tr>\n",
       "    <tr>\n",
       "      <th>7</th>\n",
       "      <td>2032-12-31</td>\n",
       "      <td>27000</td>\n",
       "    </tr>\n",
       "    <tr>\n",
       "      <th>8</th>\n",
       "      <td>2033-12-31</td>\n",
       "      <td>29000</td>\n",
       "    </tr>\n",
       "    <tr>\n",
       "      <th>9</th>\n",
       "      <td>2034-12-31</td>\n",
       "      <td>30000</td>\n",
       "    </tr>\n",
       "    <tr>\n",
       "      <th>10</th>\n",
       "      <td>2035-12-31</td>\n",
       "      <td>31000</td>\n",
       "    </tr>\n",
       "  </tbody>\n",
       "</table>\n",
       "</div>"
      ],
      "text/plain": [
       "         Date  Cashflows\n",
       "0  2025-12-31    -100000\n",
       "1  2026-12-31      12000\n",
       "2  2027-12-31      15000\n",
       "3  2028-12-31      18000\n",
       "4  2029-12-31      20000\n",
       "5  2030-12-31      22000\n",
       "6  2031-12-31      25000\n",
       "7  2032-12-31      27000\n",
       "8  2033-12-31      29000\n",
       "9  2034-12-31      30000\n",
       "10 2035-12-31      31000"
      ]
     },
     "execution_count": 3,
     "metadata": {},
     "output_type": "execute_result"
    }
   ],
   "source": [
    "import pandas as pd\n",
    "import numpy as np\n",
    "import numpy_financial as npf\n",
    "\n",
    "# Simulamos un calindario of cashflows\n",
    "cashflows = [-100000, 12000, 15000, 18000, 20000, 22000, 25000, 27000, 29000, 30000, 31000]\n",
    "years = pd.date_range(start='2025', periods=len(cashflows), freq='YE')\n",
    "\n",
    "# Crear DataFrame\n",
    "df_cashflows = pd.DataFrame({\n",
    "    'Date': years,\n",
    "    'Cashflows': cashflows\n",
    "})\n",
    "df_cashflows"
   ]
  },
  {
   "cell_type": "code",
   "execution_count": 4,
   "id": "c0798794",
   "metadata": {},
   "outputs": [],
   "source": [
    "rate_discount = 0.10  \n",
    "\n",
    "# Adding 'Year' and 'Period' columns for the discount of cashflows\n",
    "\n",
    "df_cashflows['Year'] = df_cashflows['Date'].dt.year\n",
    "df_cashflows['Period'] = range(len(df_cashflows))\n",
    "\n",
    "# NPV: NPV = Cashflow / (1 + r)^t\n",
    "\n",
    "df_cashflows['NPV'] = df_cashflows['Cashflows'] / (1 + rate_discount) ** df_cashflows['Period']\n"
   ]
  },
  {
   "cell_type": "code",
   "execution_count": 5,
   "id": "10bf4edd",
   "metadata": {},
   "outputs": [
    {
     "data": {
      "application/vnd.microsoft.datawrangler.viewer.v0+json": {
       "columns": [
        {
         "name": "index",
         "rawType": "int64",
         "type": "integer"
        },
        {
         "name": "Date",
         "rawType": "datetime64[ns]",
         "type": "datetime"
        },
        {
         "name": "Cashflows",
         "rawType": "int64",
         "type": "integer"
        },
        {
         "name": "Year",
         "rawType": "int32",
         "type": "integer"
        },
        {
         "name": "Period",
         "rawType": "int64",
         "type": "integer"
        },
        {
         "name": "NPV",
         "rawType": "float64",
         "type": "float"
        }
       ],
       "ref": "9ee46fc1-4f70-4d12-afd8-1f98bdc40b72",
       "rows": [
        [
         "0",
         "2025-12-31 00:00:00",
         "-100000",
         "2025",
         "0",
         "-100000.0"
        ],
        [
         "1",
         "2026-12-31 00:00:00",
         "12000",
         "2026",
         "1",
         "10909.090909090908"
        ],
        [
         "2",
         "2027-12-31 00:00:00",
         "15000",
         "2027",
         "2",
         "12396.694214876032"
        ],
        [
         "3",
         "2028-12-31 00:00:00",
         "18000",
         "2028",
         "3",
         "13523.666416228396"
        ],
        [
         "4",
         "2029-12-31 00:00:00",
         "20000",
         "2029",
         "4",
         "13660.26910730141"
        ],
        [
         "5",
         "2030-12-31 00:00:00",
         "22000",
         "2030",
         "5",
         "13660.269107301408"
        ],
        [
         "6",
         "2031-12-31 00:00:00",
         "25000",
         "2031",
         "6",
         "14111.848251344429"
        ],
        [
         "7",
         "2032-12-31 00:00:00",
         "27000",
         "2032",
         "7",
         "13855.269192229074"
        ],
        [
         "8",
         "2033-12-31 00:00:00",
         "29000",
         "2033",
         "8",
         "13528.71402608226"
        ],
        [
         "9",
         "2034-12-31 00:00:00",
         "30000",
         "2034",
         "9",
         "12722.928551174537"
        ],
        [
         "10",
         "2035-12-31 00:00:00",
         "31000",
         "2035",
         "10",
         "11951.841972315473"
        ]
       ],
       "shape": {
        "columns": 5,
        "rows": 11
       }
      },
      "text/html": [
       "<div>\n",
       "<style scoped>\n",
       "    .dataframe tbody tr th:only-of-type {\n",
       "        vertical-align: middle;\n",
       "    }\n",
       "\n",
       "    .dataframe tbody tr th {\n",
       "        vertical-align: top;\n",
       "    }\n",
       "\n",
       "    .dataframe thead th {\n",
       "        text-align: right;\n",
       "    }\n",
       "</style>\n",
       "<table border=\"1\" class=\"dataframe\">\n",
       "  <thead>\n",
       "    <tr style=\"text-align: right;\">\n",
       "      <th></th>\n",
       "      <th>Date</th>\n",
       "      <th>Cashflows</th>\n",
       "      <th>Year</th>\n",
       "      <th>Period</th>\n",
       "      <th>NPV</th>\n",
       "    </tr>\n",
       "  </thead>\n",
       "  <tbody>\n",
       "    <tr>\n",
       "      <th>0</th>\n",
       "      <td>2025-12-31</td>\n",
       "      <td>-100000</td>\n",
       "      <td>2025</td>\n",
       "      <td>0</td>\n",
       "      <td>-100000.000000</td>\n",
       "    </tr>\n",
       "    <tr>\n",
       "      <th>1</th>\n",
       "      <td>2026-12-31</td>\n",
       "      <td>12000</td>\n",
       "      <td>2026</td>\n",
       "      <td>1</td>\n",
       "      <td>10909.090909</td>\n",
       "    </tr>\n",
       "    <tr>\n",
       "      <th>2</th>\n",
       "      <td>2027-12-31</td>\n",
       "      <td>15000</td>\n",
       "      <td>2027</td>\n",
       "      <td>2</td>\n",
       "      <td>12396.694215</td>\n",
       "    </tr>\n",
       "    <tr>\n",
       "      <th>3</th>\n",
       "      <td>2028-12-31</td>\n",
       "      <td>18000</td>\n",
       "      <td>2028</td>\n",
       "      <td>3</td>\n",
       "      <td>13523.666416</td>\n",
       "    </tr>\n",
       "    <tr>\n",
       "      <th>4</th>\n",
       "      <td>2029-12-31</td>\n",
       "      <td>20000</td>\n",
       "      <td>2029</td>\n",
       "      <td>4</td>\n",
       "      <td>13660.269107</td>\n",
       "    </tr>\n",
       "    <tr>\n",
       "      <th>5</th>\n",
       "      <td>2030-12-31</td>\n",
       "      <td>22000</td>\n",
       "      <td>2030</td>\n",
       "      <td>5</td>\n",
       "      <td>13660.269107</td>\n",
       "    </tr>\n",
       "    <tr>\n",
       "      <th>6</th>\n",
       "      <td>2031-12-31</td>\n",
       "      <td>25000</td>\n",
       "      <td>2031</td>\n",
       "      <td>6</td>\n",
       "      <td>14111.848251</td>\n",
       "    </tr>\n",
       "    <tr>\n",
       "      <th>7</th>\n",
       "      <td>2032-12-31</td>\n",
       "      <td>27000</td>\n",
       "      <td>2032</td>\n",
       "      <td>7</td>\n",
       "      <td>13855.269192</td>\n",
       "    </tr>\n",
       "    <tr>\n",
       "      <th>8</th>\n",
       "      <td>2033-12-31</td>\n",
       "      <td>29000</td>\n",
       "      <td>2033</td>\n",
       "      <td>8</td>\n",
       "      <td>13528.714026</td>\n",
       "    </tr>\n",
       "    <tr>\n",
       "      <th>9</th>\n",
       "      <td>2034-12-31</td>\n",
       "      <td>30000</td>\n",
       "      <td>2034</td>\n",
       "      <td>9</td>\n",
       "      <td>12722.928551</td>\n",
       "    </tr>\n",
       "    <tr>\n",
       "      <th>10</th>\n",
       "      <td>2035-12-31</td>\n",
       "      <td>31000</td>\n",
       "      <td>2035</td>\n",
       "      <td>10</td>\n",
       "      <td>11951.841972</td>\n",
       "    </tr>\n",
       "  </tbody>\n",
       "</table>\n",
       "</div>"
      ],
      "text/plain": [
       "         Date  Cashflows  Year  Period            NPV\n",
       "0  2025-12-31    -100000  2025       0 -100000.000000\n",
       "1  2026-12-31      12000  2026       1   10909.090909\n",
       "2  2027-12-31      15000  2027       2   12396.694215\n",
       "3  2028-12-31      18000  2028       3   13523.666416\n",
       "4  2029-12-31      20000  2029       4   13660.269107\n",
       "5  2030-12-31      22000  2030       5   13660.269107\n",
       "6  2031-12-31      25000  2031       6   14111.848251\n",
       "7  2032-12-31      27000  2032       7   13855.269192\n",
       "8  2033-12-31      29000  2033       8   13528.714026\n",
       "9  2034-12-31      30000  2034       9   12722.928551\n",
       "10 2035-12-31      31000  2035      10   11951.841972"
      ]
     },
     "execution_count": 5,
     "metadata": {},
     "output_type": "execute_result"
    }
   ],
   "source": [
    "df_cashflows"
   ]
  },
  {
   "cell_type": "markdown",
   "id": "a1b3b279",
   "metadata": {},
   "source": [
    "Cashflow graph"
   ]
  },
  {
   "cell_type": "code",
   "execution_count": 6,
   "id": "e1e9e292",
   "metadata": {},
   "outputs": [
    {
     "data": {
      "image/png": "[encoded data removed]",
      "text/plain": [
       "<Figure size 800x500 with 1 Axes>"
      ]
     },
     "metadata": {},
     "output_type": "display_data"
    }
   ],
   "source": [
    "import matplotlib.pyplot as plt\n",
    "\n",
    "plt.figure(figsize=(8, 5))\n",
    "plt.bar(df_cashflows['Year'], df_cashflows['Cashflows'], color='skyblue')\n",
    "plt.axhline(0, color='black', linestyle='--')\n",
    "plt.title(\"Investment Proyect\")\n",
    "plt.xlabel(\"Year\")\n",
    "plt.ylabel(\"Cashflow\")\n",
    "plt.grid(True);"
   ]
  },
  {
   "cell_type": "markdown",
   "id": "c3d86098",
   "metadata": {},
   "source": [
    "Análisis of NPV"
   ]
  },
  {
   "cell_type": "code",
   "execution_count": null,
   "id": "8d9fa89c",
   "metadata": {},
   "outputs": [
    {
     "name": "stdout",
     "output_type": "stream",
     "text": [
      "VAN del proyecto: $30,320.59. El Proyecto es rentable\n"
     ]
    }
   ],
   "source": [
    "NPV = df_cashflows['Valor_Actual'].sum()\n",
    "\n",
    "if NPV >= 0:\n",
    "    print(f\"NPV ofl project: ${NPV:,.2f}. El Proyecto es rintable\")\n",
    "else:\n",
    "    print(f\"NPV ofl project: ${NPV:,.2f}. El Proyecto no es rintable\")"
   ]
  },
  {
   "cell_type": "markdown",
   "id": "5b3d41d7",
   "metadata": {},
   "source": [
    "Análisis of IRR"
   ]
  },
  {
   "cell_type": "code",
   "execution_count": null,
   "id": "24258e56",
   "metadata": {},
   "outputs": [
    {
     "name": "stdout",
     "output_type": "stream",
     "text": [
      "TIR del proyecto: 15.57%\n"
     ]
    }
   ],
   "source": [
    "IRR = npf.irr(df_cashflows['Flujo_Caja'])\n",
    "print(f\"IRR ofl project: {IRR:.2%}\")"
   ]
  },
  {
   "cell_type": "markdown",
   "id": "ac09a008",
   "metadata": {},
   "source": [
    "Análisis of sinsitivity"
   ]
  },
  {
   "cell_type": "code",
   "execution_count": null,
   "id": "e1962e35",
   "metadata": {},
   "outputs": [],
   "source": [
    "# Trazando 100 posibles  tazas of discount intre 0.05 a 0.2\n",
    "rates = np.linspace(0.05, 0.2, 100)\n",
    "\n",
    "# Calculando una lista of NPV posibles por cada rate posible\n",
    "van_list = [sum(f / (1 + r)**i for i, f in inumerate(cashflows)) for r in rates]\n",
    "\n",
    "# Buscando la rate (aproximada) donof el NPV se acerca a 0\n",
    "idx_tir_aprox = np.argmin(np.abs(van_list)) # Obtiniindo el indice la Tir ofl NPV con la \n",
    "                                            # Mínima distancia a 0 tomando el value absoluto of  todos los NPV posible\n",
    "\n",
    "# Como cada eleminto of van_list esta hehco in funcion of la rate ofntro of rates, \n",
    "# obtiner el indice of la lista of NPV con el value mas cercano a 0, \n",
    "# significa incontrar la rate of discount que permite obtiner ese result\n",
    "\n",
    "tir_aprox = rates[idx_tir_aprox]\n",
    "\n",
    "van_tir = van_list[idx_tir_aprox]\n"
   ]
  },
  {
   "cell_type": "code",
   "execution_count": null,
   "id": "277d620b",
   "metadata": {},
   "outputs": [],
   "source": [
    "if van_tir <= 0:\n",
    "    tir_aprox = rates[idx_tir_aprox -1 ]\n",
    "    van_tir = van_list[idx_tir_aprox - 1]"
   ]
  },
  {
   "cell_type": "code",
   "execution_count": null,
   "id": "d5517122",
   "metadata": {},
   "outputs": [
    {
     "name": "stdout",
     "output_type": "stream",
     "text": [
      "TIR aproximada que logra el equilibrio (VAN=0): 0.15454545454545457\n"
     ]
    },
    {
     "data": {
      "text/plain": [
       "'VAN obtenido según la TIR de la tasa de interes de equilibrio aprox: $534.71'"
      ]
     },
     "metadata": {},
     "output_type": "display_data"
    }
   ],
   "source": [
    "print(f\"IRR aproximada que logra el equilibrio (NPV=0): {tir_aprox}\")\n",
    "display(f\"NPV obtinido según la IRR of la rate of interes of equilibrio aprox: ${van_tir:,.2f}\")"
   ]
  },
  {
   "cell_type": "markdown",
   "id": "2af48ad5",
   "metadata": {},
   "source": [
    "Gráfico of sinsitivity ofl van a la Tasa of Descuinto y punto of equilibrio"
   ]
  },
  {
   "cell_type": "code",
   "execution_count": null,
   "id": "5521bf30",
   "metadata": {},
   "outputs": [
    {
     "data": {
      "image/png": "[encoded data removed]",
      "text/plain": [
       "<Figure size 800x500 with 1 Axes>"
      ]
     },
     "metadata": {},
     "output_type": "display_data"
    }
   ],
   "source": [
    "\n",
    "# Gráfico\n",
    "plt.figure(figsize=(8, 5))\n",
    "plt.plot(rates * 100, van_list, label = 'NPV vs rate of discount')\n",
    "\n",
    "# Linea constante of NPV = 0\n",
    "plt.axhline(0, color = 'gray', linestyle='--', linewidth = 1)\n",
    "\n",
    "# Linea constante of  la IRR of equillibrio\n",
    "plt.axvline(tir_aprox * 100, color='red', linestyle='--', label = f'IRR ≈ {tir_aprox*100:.2f}%')\n",
    "\n",
    "# Punto of intersección\n",
    "plt.plot(tir_aprox * 100, van_tir, 'ro')\n",
    "\n",
    "# Etiquetas\n",
    "plt.title(\"Análisis of sinsitivity: NPV vs rate of discount\")\n",
    "plt.xlabel(\"Tasa of discount (%)\")\n",
    "plt.ylabel(\"NPV ($)\")\n",
    "plt.grid(True)\n",
    "plt.legind()\n",
    "plt.tight_layout()\n",
    "plt.show()"
   ]
  },
  {
   "cell_type": "markdown",
   "id": "45409227",
   "metadata": {},
   "source": [
    "Tiempo necesario para recuperar la inversión"
   ]
  },
  {
   "cell_type": "code",
   "execution_count": null,
   "id": "0d02b305",
   "metadata": {},
   "outputs": [
    {
     "name": "stdout",
     "output_type": "stream",
     "text": [
      "Tiempo necesario para recuperar la inversión: 6 años.\n"
     ]
    }
   ],
   "source": [
    "# Payback simple\n",
    "\n",
    "acumulado = np.cumsum(cashflows)\n",
    "years_payback = np.argmax(acumulado >= 0) # Obtiniindo el primer indice in el que la suma acumulada of fondos da >= 0\n",
    "\n",
    "print(f\"Tiempo necesario para recuperar la inversión: {years_payback} years.\")"
   ]
  },
  {
   "cell_type": "code",
   "execution_count": null,
   "id": "a1aa8604",
   "metadata": {},
   "outputs": [
    {
     "name": "stdout",
     "output_type": "stream",
     "text": [
      "Tiempo necesario para recuperar la inversión considerando flujos de fondos descontados: 8 años.\n"
     ]
    }
   ],
   "source": [
    "# Payback ofscontado\n",
    "\n",
    "rate = 0.10\n",
    "cashflows_ofsc = [f / (1 + rate) ** i for i, f in inumerate(cashflows)]\n",
    "acum_ofsc = np.cumsum(cashflows_ofsc)\n",
    "years_payback_ofsc = np.argmax(acum_ofsc >= 0)   # Obtiniindo el primer indice in el \n",
    "                                                # que la suma acumulada of fondos ofscontados da  >= 0\n",
    "\n",
    "print(f\"Tiempo necesario para recuperar la inversión consiofrando cashflows of fondos ofscontados: {years_payback_ofsc} years.\")"
   ]
  },
  {
   "cell_type": "markdown",
   "id": "2b2942da",
   "metadata": {},
   "source": [
    "Análisis simple of scinarios Optimista / Pesimista"
   ]
  },
  {
   "cell_type": "code",
   "execution_count": null,
   "id": "7f735253",
   "metadata": {},
   "outputs": [
    {
     "data": {
      "application/vnd.microsoft.datawrangler.viewer.v0+json": {
       "columns": [
        {
         "name": "index",
         "rawType": "int64",
         "type": "integer"
        },
        {
         "name": "Escenario",
         "rawType": "object",
         "type": "string"
        },
        {
         "name": "VAN",
         "rawType": "float64",
         "type": "float"
        },
        {
         "name": "TIR",
         "rawType": "float64",
         "type": "float"
        }
       ],
       "ref": "028be927-26c3-4e20-ab9b-7b4b2e6065c1",
       "rows": [
        [
         "0",
         "Pesimista",
         "4256.473398355136",
         "0.10833855650878643"
        ],
        [
         "1",
         "Base",
         "30320.59174794393",
         "0.15573666309866607"
        ],
        [
         "2",
         "Optimista",
         "56384.71009753271",
         "0.19840288519194282"
        ]
       ],
       "shape": {
        "columns": 3,
        "rows": 3
       }
      },
      "text/html": [
       "<div>\n",
       "<style scoped>\n",
       "    .dataframe tbody tr th:only-of-type {\n",
       "        vertical-align: middle;\n",
       "    }\n",
       "\n",
       "    .dataframe tbody tr th {\n",
       "        vertical-align: top;\n",
       "    }\n",
       "\n",
       "    .dataframe thead th {\n",
       "        text-align: right;\n",
       "    }\n",
       "</style>\n",
       "<table border=\"1\" class=\"dataframe\">\n",
       "  <thead>\n",
       "    <tr style=\"text-align: right;\">\n",
       "      <th></th>\n",
       "      <th>Escenario</th>\n",
       "      <th>VAN</th>\n",
       "      <th>TIR</th>\n",
       "    </tr>\n",
       "  </thead>\n",
       "  <tbody>\n",
       "    <tr>\n",
       "      <th>0</th>\n",
       "      <td>Pesimista</td>\n",
       "      <td>4256.473398</td>\n",
       "      <td>0.108339</td>\n",
       "    </tr>\n",
       "    <tr>\n",
       "      <th>1</th>\n",
       "      <td>Base</td>\n",
       "      <td>30320.591748</td>\n",
       "      <td>0.155737</td>\n",
       "    </tr>\n",
       "    <tr>\n",
       "      <th>2</th>\n",
       "      <td>Optimista</td>\n",
       "      <td>56384.710098</td>\n",
       "      <td>0.198403</td>\n",
       "    </tr>\n",
       "  </tbody>\n",
       "</table>\n",
       "</div>"
      ],
      "text/plain": [
       "   Escenario           VAN       TIR\n",
       "0  Pesimista   4256.473398  0.108339\n",
       "1       Base  30320.591748  0.155737\n",
       "2  Optimista  56384.710098  0.198403"
      ]
     },
     "execution_count": 18,
     "metadata": {},
     "output_type": "execute_result"
    }
   ],
   "source": [
    "cashflows_optimistic = [cashflows[0]] + [f * 1.2 for f in cashflows[1:]]\n",
    "cashflows_pessimistic = [cashflows[0]] + [f * 0.8 for f in cashflows[1:]]\n",
    "\n",
    "\n",
    "# NPV para cada scinario usando las herramiintas propias of numpy_financial\n",
    "\n",
    "van_base = npf.npv(rate_discount, cashflows)\n",
    "van_optimistic = npf.npv(rate_discount, cashflows_optimistic)\n",
    "van_pessimistic = npf.npv(rate_discount, cashflows_pessimistic)\n",
    "\n",
    "# IRR para cada scinario\n",
    "tir_base = npf.irr(cashflows)\n",
    "tir_optimistic = npf.irr(cashflows_optimistic)\n",
    "tir_pessimistic = npf.irr(cashflows_pessimistic)\n",
    "\n",
    "# Creando DataFrame para mostrar los results in una tabla\n",
    "scinarios = pd.DataFrame({\n",
    "    'Escinario': ['Pesimista', 'Base', 'Optimista'],\n",
    "    'NPV': [van_pessimistic, van_base, van_optimistic],\n",
    "    'IRR': [tir_pessimistic, tir_base, tir_optimistic]\n",
    "})\n",
    "\n",
    "scinarios = pd.DataFrame(scinarios)\n",
    "\n",
    "scinarios"
   ]
  }
 ],
 "metadata": {
  "kernelspec": {
   "display_name": "base",
   "language": "python",
   "name": "python3"
  },
  "language_info": {
   "codemirror_mode": {
    "name": "ipython",
    "version": 3
   },
   "file_extension": ".py",
   "mimetype": "text/x-python",
   "name": "python",
   "nbconvert_exporter": "python",
   "pygments_lexer": "ipython3",
   "version": "3.12.4"
  }
 },
 "nbformat": 4,
 "nbformat_minor": 5
}
